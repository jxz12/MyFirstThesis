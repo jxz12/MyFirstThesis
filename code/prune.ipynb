{
 "cells": [
  {
   "cell_type": "code",
   "execution_count": 1,
   "metadata": {},
   "outputs": [
    {
     "data": {
      "text/plain": [
       "'prune and draw!'"
      ]
     },
     "execution_count": 1,
     "metadata": {},
     "output_type": "execute_result"
    }
   ],
   "source": [
    "\"\"\"prune and draw!\"\"\""
   ]
  },
  {
   "cell_type": "code",
   "execution_count": 6,
   "metadata": {},
   "outputs": [],
   "source": [
    "from pickle import load\n",
    "from scipy.cluster.hierarchy import ClusterNode"
   ]
  },
  {
   "cell_type": "code",
   "execution_count": 15,
   "metadata": {},
   "outputs": [],
   "source": [
    "class TreeNode:\n",
    "    '''needed because ClusterNode for dendrogram is binary'''\n",
    "    def __init__(self, idx, height):\n",
    "        self.idx = idx\n",
    "        self.height = height\n",
    "        self.children = []\n",
    "        \n",
    "def prune_clusters(root: ClusterNode, mingap) -> TreeNode:\n",
    "    def dfs(node):\n",
    "        if node is None:\n",
    "            return None\n",
    "        \n",
    "        here = TreeNode(node.id, node.dist)\n",
    "        left = dfs(node.left)\n",
    "        right = dfs(node.right)\n",
    "        \n",
    "        # if leaf, just return\n",
    "        if left is None:\n",
    "            assert right is None # should be satisfied from dendrogram\n",
    "            return here\n",
    "    \n",
    "        # merge child into self if not leaf and gap is smaller than min\n",
    "        if len(left.children) != 0 and here.height-left.height < mingap:\n",
    "            here.children.extend(left.children)\n",
    "        else:\n",
    "            here.children.append(left)\n",
    "        # and same for right\n",
    "        if len(right.children) != 0 and here.height-right.height < mingap:\n",
    "            here.children.extend(right.children)\n",
    "        else:\n",
    "            here.children.append(right)\n",
    "            \n",
    "        return here\n",
    "    \n",
    "    return dfs(root)\n",
    "            \n",
    "# def radial_tree_layout(root: TreeNode):"
   ]
  },
  {
   "cell_type": "code",
   "execution_count": 28,
   "metadata": {},
   "outputs": [
    {
     "name": "stdout",
     "output_type": "stream",
     "text": [
      "66  0  10.71 2\n",
      "64  1  4.42 2\n",
      "58  2  1.42 5\n",
      "16  3  0.00 0\n",
      "10  3  0.00 0\n",
      "6   3  0.00 0\n",
      "5   3  0.00 0\n",
      "4   3  0.00 0\n",
      "62  2  2.32 11\n",
      "2   3  0.00 0\n",
      "1   3  0.00 0\n",
      "0   3  0.00 0\n",
      "3   3  0.00 0\n",
      "7   3  0.00 0\n",
      "13  3  0.00 0\n",
      "19  3  0.00 0\n",
      "21  3  0.00 0\n",
      "17  3  0.00 0\n",
      "11  3  0.00 0\n",
      "12  3  0.00 0\n",
      "65  1  4.51 16\n",
      "26  2  0.00 0\n",
      "23  2  0.00 0\n",
      "29  2  0.00 0\n",
      "33  2  0.00 0\n",
      "32  2  0.00 0\n",
      "8   2  0.00 0\n",
      "30  2  0.00 0\n",
      "20  2  0.00 0\n",
      "14  2  0.00 0\n",
      "15  2  0.00 0\n",
      "18  2  0.00 0\n",
      "22  2  0.00 0\n",
      "28  2  0.00 0\n",
      "9   2  0.00 0\n",
      "27  2  0.00 0\n",
      "51  2  0.90 3\n",
      "31  3  0.00 0\n",
      "25  3  0.00 0\n",
      "24  3  0.00 0\n"
     ]
    }
   ],
   "source": [
    "with open(f'dendrogram_karate.pkl', 'rb') as f:\n",
    "    clustroot = load(f)\n",
    "\n",
    "root = prune_clusters(clustroot, 2)\n",
    "def printree(node, depth):\n",
    "    if node is None:\n",
    "        return\n",
    "    print(f'{node.idx:<3} {depth:<2} {node.height:.2f} {len(node.children)}')\n",
    "    for child in node.children:\n",
    "        printree(child, depth+1)\n",
    "printree(root, 0)"
   ]
  },
  {
   "cell_type": "code",
   "execution_count": null,
   "metadata": {},
   "outputs": [],
   "source": []
  }
 ],
 "metadata": {
  "kernelspec": {
   "display_name": "Python 3",
   "language": "python",
   "name": "python3"
  },
  "language_info": {
   "codemirror_mode": {
    "name": "ipython",
    "version": 3
   },
   "file_extension": ".py",
   "mimetype": "text/x-python",
   "name": "python",
   "nbconvert_exporter": "python",
   "pygments_lexer": "ipython3",
   "version": "3.6.9"
  }
 },
 "nbformat": 4,
 "nbformat_minor": 4
}
