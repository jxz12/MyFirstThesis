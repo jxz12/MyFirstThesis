{
 "cells": [
  {
   "cell_type": "code",
   "execution_count": 42,
   "metadata": {},
   "outputs": [],
   "source": [
    "\"\"\"\n",
    " - create binary tree\n",
    " - make laplacian\n",
    " - solve = Tutte\n",
    " - eigenvalues = Spectral\n",
    " - gradient descent for eades\n",
    " - ?sgd for stress\n",
    "\n",
    "        0\n",
    "      /   \\\n",
    "    1       2\n",
    "   / \\     / \\\n",
    "  3   4   5   6\n",
    "\n",
    "children = x*2+1, x*2+2\n",
    "parent = (x-1)/2\n",
    "\"\"\"\n",
    "\n",
    "import numpy as np\n",
    "\n",
    "def maketree(depth):\n",
    "    I = []\n",
    "    J = []\n",
    "    def dfs(idx, depth):\n",
    "        if depth <= 0:\n",
    "            return\n",
    "        parent = (idx-1)//2\n",
    "        I.append(parent)\n",
    "        J.append(idx)\n",
    "        I.append(idx)\n",
    "        J.append(parent)\n",
    "\n",
    "        dfs(idx*2+1, depth-1)\n",
    "        dfs(idx*2+2, depth-1)\n",
    "\n",
    "    # node 0 is root and so has no parent\n",
    "    dfs(1, depth-1)\n",
    "    dfs(2, depth-1)\n",
    "    return I,J"
   ]
  },
  {
   "cell_type": "code",
   "execution_count": 65,
   "metadata": {},
   "outputs": [
    {
     "name": "stdout",
     "output_type": "stream",
     "text": [
      "4 15 7\n"
     ]
    }
   ],
   "source": [
    "depth = 4\n",
    "I,J = maketree(depth)\n",
    "n = (1<<depth)-1\n",
    "A = np.zeros((n,n))\n",
    "for i,j in zip(I,J):\n",
    "    A[i,j] = 1\n",
    "\n",
    "firstleaf = (1<<(depth-1))-1\n",
    "print(f'{depth} {n} {firstleaf}')"
   ]
  },
  {
   "cell_type": "code",
   "execution_count": 66,
   "metadata": {},
   "outputs": [],
   "source": [
    "import math\n",
    "import numpy.linalg as alg\n",
    "\n",
    "# calculate Laplacian matrix\n",
    "L = np.zeros((n,n))\n",
    "for i,j in zip(I,J):\n",
    "    L[i,j] -= 1\n",
    "    L[i,i] += .5\n",
    "    L[j,j] += .5"
   ]
  },
  {
   "cell_type": "code",
   "execution_count": null,
   "metadata": {},
   "outputs": [],
   "source": [
    "# Tutte: fix leaf vertices then solve\n",
    "\n",
    "b = np.zeros((n,2))\n",
    "nleaves = (n-firstleaf)\n",
    "for i in range(firstleaf, n):\n",
    "    L[i,:] = 0\n",
    "    L[i,i] = 1\n",
    "    rad = (i-firstleaf)/nleaves * 2*math.pi\n",
    "    b[i,0] = math.cos(rad)\n",
    "    b[i,1] = math.sin(rad)\n",
    "    \n",
    "X = alg.solve(L, b)"
   ]
  },
  {
   "cell_type": "code",
   "execution_count": 72,
   "metadata": {},
   "outputs": [],
   "source": [
    "# Spectral: calculate eigenvalues\n",
    "\n",
    "w,v = alg.eig(L)\n",
    "\n",
    "idx = w.argsort()[::-1]\n",
    "\n",
    "# sort by eigenvalue\n",
    "w = w[idx]\n",
    "v = v[:,idx]\n",
    "\n",
    "# take second and third eigenvectors\n",
    "X = v[:,1:3]"
   ]
  },
  {
   "cell_type": "code",
   "execution_count": 73,
   "metadata": {},
   "outputs": [],
   "source": [
    "import s_gd2\n",
    "\n",
    "s_gd2.draw_png(X, I, J, 'tree.png', linkwidth=.02, noderadius=.025)"
   ]
  },
  {
   "cell_type": "code",
   "execution_count": null,
   "metadata": {},
   "outputs": [],
   "source": []
  }
 ],
 "metadata": {
  "kernelspec": {
   "display_name": "Python 3",
   "language": "python",
   "name": "python3"
  },
  "language_info": {
   "codemirror_mode": {
    "name": "ipython",
    "version": 3
   },
   "file_extension": ".py",
   "mimetype": "text/x-python",
   "name": "python",
   "nbconvert_exporter": "python",
   "pygments_lexer": "ipython3",
   "version": "3.6.9"
  }
 },
 "nbformat": 4,
 "nbformat_minor": 4
}
