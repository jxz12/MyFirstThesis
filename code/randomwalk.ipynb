{
 "cells": [
  {
   "cell_type": "code",
   "execution_count": null,
   "metadata": {},
   "outputs": [],
   "source": [
    "\"\"\"\n",
    " - get probability matrix\n",
    " - calculate randomwalk and wasserstein\n",
    " - plot results along with jaccard-shortest\n",
    "\"\"\""
   ]
  },
  {
   "cell_type": "code",
   "execution_count": 108,
   "metadata": {},
   "outputs": [],
   "source": [
    "from scipy.io import loadmat\n",
    "from scipy.sparse import find\n",
    "from scipy.sparse.csgraph import dijkstra\n",
    "from scipy.linalg import sqrtm\n",
    "from scipy.cluster.hierarchy import linkage, dendrogram\n",
    "from scipy.spatial.distance import pdist, squareform\n",
    "from scipy.stats import wasserstein_distance\n",
    "import numpy as np\n",
    "import numpy.linalg as lalg\n",
    "import matplotlib.pyplot as plt\n",
    "%matplotlib inline"
   ]
  },
  {
   "cell_type": "code",
   "execution_count": 81,
   "metadata": {},
   "outputs": [],
   "source": [
    "def karate_labels():\n",
    "    ticks, labels = plt.xticks()\n",
    "    mr_hi = set([1, 2, 3, 4, 5, 6, 7, 8, 11, 12, 13, 14, 17, 18, 20, 22])\n",
    "    labels = [int(x.get_text())+1 for x in labels]\n",
    "    for i in range(len(labels)):\n",
    "        if labels[i] in mr_hi:\n",
    "            labels[i] = \"#_{}\".format(labels[i])\n",
    "    plt.xticks(ticks, labels)"
   ]
  },
  {
   "cell_type": "code",
   "execution_count": 51,
   "metadata": {},
   "outputs": [
    {
     "data": {
      "text/plain": [
       "<matplotlib.image.AxesImage at 0x7fcfa2a39828>"
      ]
     },
     "execution_count": 51,
     "metadata": {},
     "output_type": "execute_result"
    },
    {
     "data": {
      "image/png": "[encoded data removed]",
      "text/plain": [
       "<Figure size 432x288 with 1 Axes>"
      ]
     },
     "metadata": {
      "needs_background": "light"
     },
     "output_type": "display_data"
    }
   ],
   "source": [
    "mat = loadmat('karate.mat')\n",
    "S = mat['Problem'][0][0][2]\n",
    "I,J,V = find(S)\n",
    "n = max(max(I), max(J)) + 1\n",
    "A = np.zeros((n,n))\n",
    "for i,j,v in zip(I,J,V):\n",
    "    A[i,j] = v\n",
    "D = np.identity(n, dtype=A.dtype) * np.sum(A, axis=1)\n",
    "\n",
    "P = lalg.inv(D) @ A\n",
    "plt.imshow(P)"
   ]
  },
  {
   "cell_type": "code",
   "execution_count": 111,
   "metadata": {},
   "outputs": [],
   "source": [
    "steps = 4\n",
    "Ppow = lalg.matrix_power(P, steps)"
   ]
  },
  {
   "cell_type": "code",
   "execution_count": 112,
   "metadata": {},
   "outputs": [],
   "source": [
    "# cluster walktrap distance\n",
    "Dsqrt = lalg.inv(sqrtm(D))\n",
    "hde = Dsqrt @ Ppow\n",
    "Z = linkage(hde, method='ward', metric='euclidean')"
   ]
  },
  {
   "cell_type": "code",
   "execution_count": 109,
   "metadata": {},
   "outputs": [],
   "source": [
    "jacc = pdist(A, metric='jaccard')\n",
    "bacon = dijkstra(A, directed=False, unweighted=True)\n",
    "dist = jacc * squareform(bacon)\n",
    "Z = linkage(dist, method='ward')"
   ]
  },
  {
   "cell_type": "code",
   "execution_count": 105,
   "metadata": {},
   "outputs": [],
   "source": [
    "# wasserstein distance\n",
    "dist = pdist(Ppow, wasserstein_distance)\n",
    "Z = linkage(dist, method='ward')"
   ]
  },
  {
   "cell_type": "code",
   "execution_count": 110,
   "metadata": {},
   "outputs": [
    {
     "data": {
      "image/png": "[encoded data removed]",
      "text/plain": [
       "<Figure size 432x288 with 1 Axes>"
      ]
     },
     "metadata": {
      "needs_background": "light"
     },
     "output_type": "display_data"
    }
   ],
   "source": [
    "dend = dendrogram(Z, leaf_rotation=90, leaf_font_size=8)\n",
    "karate_labels()"
   ]
  },
  {
   "cell_type": "code",
   "execution_count": 113,
   "metadata": {},
   "outputs": [
    {
     "data": {
      "image/png": "[encoded data removed]",
      "text/plain": [
       "<Figure size 432x288 with 1 Axes>"
      ]
     },
     "metadata": {
      "needs_background": "light"
     },
     "output_type": "display_data"
    }
   ],
   "source": [
    "dend = dendrogram(Z, leaf_rotation=90, leaf_font_size=8)\n",
    "karate_labels()"
   ]
  },
  {
   "cell_type": "code",
   "execution_count": null,
   "metadata": {},
   "outputs": [],
   "source": []
  }
 ],
 "metadata": {
  "kernelspec": {
   "display_name": "Python 3",
   "language": "python",
   "name": "python3"
  },
  "language_info": {
   "codemirror_mode": {
    "name": "ipython",
    "version": 3
   },
   "file_extension": ".py",
   "mimetype": "text/x-python",
   "name": "python",
   "nbconvert_exporter": "python",
   "pygments_lexer": "ipython3",
   "version": "3.6.9"
  }
 },
 "nbformat": 4,
 "nbformat_minor": 4
}
